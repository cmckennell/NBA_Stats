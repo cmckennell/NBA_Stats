{
 "cells": [
  {
   "cell_type": "markdown",
   "metadata": {},
   "source": [
    "# Dataset Exploration\n",
    "*This notebook will supply data and insight for the markdown*\n",
    "\n",
    "Datasets are categorized as: Informational, Player, or Team. \n",
    "Each exploration will include the following:\n",
    "- Shape\n",
    "- Data Types\n",
    "- Missing Data\n",
    "- Duplicate Rows\n",
    "- Descriptive Statistics\n",
    "- Datetimes"
   ]
  },
  {
   "cell_type": "code",
   "execution_count": 1,
   "metadata": {},
   "outputs": [],
   "source": [
    "import pandas as pd\n",
    "import numpy as np"
   ]
  },
  {
   "cell_type": "markdown",
   "metadata": {},
   "source": [
    "## Inforational Tables\n",
    "- Player Season Info\n",
    "- Player Career Info\n",
    "- Team Abbrev"
   ]
  },
  {
   "cell_type": "markdown",
   "metadata": {},
   "source": [
    "### Player Season Info"
   ]
  },
  {
   "cell_type": "code",
   "execution_count": 16,
   "metadata": {},
   "outputs": [
    {
     "name": "stdout",
     "output_type": "stream",
     "text": [
      "There are 10 columns and 32504 rows.\n",
      "------------------------------------------------------\n",
      "\n",
      "First Five Rows:\n",
      "------------------------------------------------------\n"
     ]
    },
    {
     "data": {
      "text/html": [
       "<div>\n",
       "<style scoped>\n",
       "    .dataframe tbody tr th:only-of-type {\n",
       "        vertical-align: middle;\n",
       "    }\n",
       "\n",
       "    .dataframe tbody tr th {\n",
       "        vertical-align: top;\n",
       "    }\n",
       "\n",
       "    .dataframe thead th {\n",
       "        text-align: right;\n",
       "    }\n",
       "</style>\n",
       "<table border=\"1\" class=\"dataframe\">\n",
       "  <thead>\n",
       "    <tr style=\"text-align: right;\">\n",
       "      <th></th>\n",
       "      <th>season</th>\n",
       "      <th>seas_id</th>\n",
       "      <th>player_id</th>\n",
       "      <th>player</th>\n",
       "      <th>birth_year</th>\n",
       "      <th>pos</th>\n",
       "      <th>age</th>\n",
       "      <th>lg</th>\n",
       "      <th>tm</th>\n",
       "      <th>experience</th>\n",
       "    </tr>\n",
       "  </thead>\n",
       "  <tbody>\n",
       "    <tr>\n",
       "      <th>0</th>\n",
       "      <td>1947</td>\n",
       "      <td>1</td>\n",
       "      <td>1</td>\n",
       "      <td>Al Brightman</td>\n",
       "      <td>NaN</td>\n",
       "      <td>F</td>\n",
       "      <td>23.0</td>\n",
       "      <td>BAA</td>\n",
       "      <td>BOS</td>\n",
       "      <td>1</td>\n",
       "    </tr>\n",
       "    <tr>\n",
       "      <th>1</th>\n",
       "      <td>1947</td>\n",
       "      <td>2</td>\n",
       "      <td>2</td>\n",
       "      <td>Al Lujack</td>\n",
       "      <td>NaN</td>\n",
       "      <td>F</td>\n",
       "      <td>26.0</td>\n",
       "      <td>BAA</td>\n",
       "      <td>WSC</td>\n",
       "      <td>1</td>\n",
       "    </tr>\n",
       "    <tr>\n",
       "      <th>2</th>\n",
       "      <td>1947</td>\n",
       "      <td>3</td>\n",
       "      <td>3</td>\n",
       "      <td>Al Negratti</td>\n",
       "      <td>NaN</td>\n",
       "      <td>F-C</td>\n",
       "      <td>25.0</td>\n",
       "      <td>BAA</td>\n",
       "      <td>WSC</td>\n",
       "      <td>1</td>\n",
       "    </tr>\n",
       "    <tr>\n",
       "      <th>3</th>\n",
       "      <td>1947</td>\n",
       "      <td>4</td>\n",
       "      <td>4</td>\n",
       "      <td>Angelo Musi</td>\n",
       "      <td>NaN</td>\n",
       "      <td>G</td>\n",
       "      <td>28.0</td>\n",
       "      <td>BAA</td>\n",
       "      <td>PHW</td>\n",
       "      <td>1</td>\n",
       "    </tr>\n",
       "    <tr>\n",
       "      <th>4</th>\n",
       "      <td>1947</td>\n",
       "      <td>5</td>\n",
       "      <td>5</td>\n",
       "      <td>Ariel Maughan</td>\n",
       "      <td>1923.0</td>\n",
       "      <td>F</td>\n",
       "      <td>23.0</td>\n",
       "      <td>BAA</td>\n",
       "      <td>DTF</td>\n",
       "      <td>1</td>\n",
       "    </tr>\n",
       "  </tbody>\n",
       "</table>\n",
       "</div>"
      ],
      "text/plain": [
       "   season  seas_id  player_id         player  birth_year  pos   age   lg   tm  \\\n",
       "0    1947        1          1   Al Brightman         NaN    F  23.0  BAA  BOS   \n",
       "1    1947        2          2      Al Lujack         NaN    F  26.0  BAA  WSC   \n",
       "2    1947        3          3    Al Negratti         NaN  F-C  25.0  BAA  WSC   \n",
       "3    1947        4          4    Angelo Musi         NaN    G  28.0  BAA  PHW   \n",
       "4    1947        5          5  Ariel Maughan      1923.0    F  23.0  BAA  DTF   \n",
       "\n",
       "   experience  \n",
       "0           1  \n",
       "1           1  \n",
       "2           1  \n",
       "3           1  \n",
       "4           1  "
      ]
     },
     "metadata": {},
     "output_type": "display_data"
    },
    {
     "name": "stdout",
     "output_type": "stream",
     "text": [
      "------------------------------------------------------\n",
      "\n",
      "<class 'pandas.core.frame.DataFrame'>\n",
      "RangeIndex: 32504 entries, 0 to 32503\n",
      "Data columns (total 10 columns):\n",
      " #   Column      Non-Null Count  Dtype  \n",
      "---  ------      --------------  -----  \n",
      " 0   season      32504 non-null  int64  \n",
      " 1   seas_id     32504 non-null  int64  \n",
      " 2   player_id   32504 non-null  int64  \n",
      " 3   player      32504 non-null  object \n",
      " 4   birth_year  2872 non-null   float64\n",
      " 5   pos         32504 non-null  object \n",
      " 6   age         32482 non-null  float64\n",
      " 7   lg          32504 non-null  object \n",
      " 8   tm          32504 non-null  object \n",
      " 9   experience  32504 non-null  int64  \n",
      "dtypes: float64(2), int64(4), object(4)\n",
      "memory usage: 2.5+ MB\n",
      "None\n"
     ]
    }
   ],
   "source": [
    "df = pd.read_csv(\"../data/raw/Player Season Info.csv\")\n",
    "print(f\"There are {df.shape[1]} columns and {df.shape[0]} rows.\")\n",
    "print(\"------------------------------------------------------\\n\")\n",
    "\n",
    "print(\"First Five Rows:\")\n",
    "print(\"------------------------------------------------------\")\n",
    "display(df.head())\n",
    "print(\"------------------------------------------------------\\n\")\n",
    "\n",
    "\n",
    "\n",
    "print(df.info())"
   ]
  },
  {
   "cell_type": "markdown",
   "metadata": {},
   "source": [
    "*Notes*\n",
    "There's lots of null values in the birth year. \n",
    "Theres some null values in age, but not as many as there are in birth year.\n",
    "Birth Year and Age are both floats."
   ]
  }
 ],
 "metadata": {
  "kernelspec": {
   "display_name": "venv",
   "language": "python",
   "name": "python3"
  },
  "language_info": {
   "codemirror_mode": {
    "name": "ipython",
    "version": 3
   },
   "file_extension": ".py",
   "mimetype": "text/x-python",
   "name": "python",
   "nbconvert_exporter": "python",
   "pygments_lexer": "ipython3",
   "version": "3.9.6"
  }
 },
 "nbformat": 4,
 "nbformat_minor": 2
}
